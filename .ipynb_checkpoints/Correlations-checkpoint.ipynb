{
 "cells": [
  {
   "cell_type": "markdown",
   "metadata": {},
   "source": [
    "# How can multicolineraity get you and how to calculate it?\n",
    "\n",
    "\n",
    "Multicollinearity is a phenomenon in which one predictor variable in a multiple regression model can be linearly predicted from the others\n",
    "Makes the model unstable\n",
    "Predictive performance does not suffer, but any inference about individual coefficients is flawed\n",
    "\n",
    "* analyze a simple dataset and show failure modes for multicolinearity\n",
    "* let's predict the width of the fish based on other data\n",
    "* I will ad a bogous column that is multicollinear with others and show how it affects coefficients"
   ]
  },
  {
   "cell_type": "code",
   "execution_count": 1,
   "metadata": {},
   "outputs": [
    {
     "data": {
      "text/html": [
       "<div>\n",
       "<style scoped>\n",
       "    .dataframe tbody tr th:only-of-type {\n",
       "        vertical-align: middle;\n",
       "    }\n",
       "\n",
       "    .dataframe tbody tr th {\n",
       "        vertical-align: top;\n",
       "    }\n",
       "\n",
       "    .dataframe thead th {\n",
       "        text-align: right;\n",
       "    }\n",
       "</style>\n",
       "<table border=\"1\" class=\"dataframe\">\n",
       "  <thead>\n",
       "    <tr style=\"text-align: right;\">\n",
       "      <th></th>\n",
       "      <th>Species</th>\n",
       "      <th>Weight</th>\n",
       "      <th>Length1</th>\n",
       "      <th>Length2</th>\n",
       "      <th>Length3</th>\n",
       "      <th>Height</th>\n",
       "      <th>Width</th>\n",
       "    </tr>\n",
       "  </thead>\n",
       "  <tbody>\n",
       "    <tr>\n",
       "      <th>0</th>\n",
       "      <td>Bream</td>\n",
       "      <td>242.0</td>\n",
       "      <td>23.2</td>\n",
       "      <td>25.4</td>\n",
       "      <td>30.0</td>\n",
       "      <td>11.5200</td>\n",
       "      <td>4.0200</td>\n",
       "    </tr>\n",
       "    <tr>\n",
       "      <th>1</th>\n",
       "      <td>Bream</td>\n",
       "      <td>290.0</td>\n",
       "      <td>24.0</td>\n",
       "      <td>26.3</td>\n",
       "      <td>31.2</td>\n",
       "      <td>12.4800</td>\n",
       "      <td>4.3056</td>\n",
       "    </tr>\n",
       "    <tr>\n",
       "      <th>2</th>\n",
       "      <td>Bream</td>\n",
       "      <td>340.0</td>\n",
       "      <td>23.9</td>\n",
       "      <td>26.5</td>\n",
       "      <td>31.1</td>\n",
       "      <td>12.3778</td>\n",
       "      <td>4.6961</td>\n",
       "    </tr>\n",
       "    <tr>\n",
       "      <th>3</th>\n",
       "      <td>Bream</td>\n",
       "      <td>363.0</td>\n",
       "      <td>26.3</td>\n",
       "      <td>29.0</td>\n",
       "      <td>33.5</td>\n",
       "      <td>12.7300</td>\n",
       "      <td>4.4555</td>\n",
       "    </tr>\n",
       "    <tr>\n",
       "      <th>4</th>\n",
       "      <td>Bream</td>\n",
       "      <td>430.0</td>\n",
       "      <td>26.5</td>\n",
       "      <td>29.0</td>\n",
       "      <td>34.0</td>\n",
       "      <td>12.4440</td>\n",
       "      <td>5.1340</td>\n",
       "    </tr>\n",
       "  </tbody>\n",
       "</table>\n",
       "</div>"
      ],
      "text/plain": [
       "  Species  Weight  Length1  Length2  Length3   Height   Width\n",
       "0   Bream   242.0     23.2     25.4     30.0  11.5200  4.0200\n",
       "1   Bream   290.0     24.0     26.3     31.2  12.4800  4.3056\n",
       "2   Bream   340.0     23.9     26.5     31.1  12.3778  4.6961\n",
       "3   Bream   363.0     26.3     29.0     33.5  12.7300  4.4555\n",
       "4   Bream   430.0     26.5     29.0     34.0  12.4440  5.1340"
      ]
     },
     "execution_count": 1,
     "metadata": {},
     "output_type": "execute_result"
    }
   ],
   "source": [
    "# let's predict the width of the fish from other measurements\n",
    "import pandas as pd\n",
    "fish = pd.read_csv('datasets-229906-491820-Fish.csv')\n",
    "fish.head()"
   ]
  },
  {
   "cell_type": "code",
   "execution_count": 59,
   "metadata": {},
   "outputs": [
    {
     "name": "stdout",
     "output_type": "stream",
     "text": [
      "                                 OLS Regression Results                                \n",
      "=======================================================================================\n",
      "Dep. Variable:                  Width   R-squared (uncentered):                   0.989\n",
      "Model:                            OLS   Adj. R-squared (uncentered):              0.989\n",
      "Method:                 Least Squares   F-statistic:                              2866.\n",
      "Date:                Tue, 30 Jun 2020   Prob (F-statistic):                   5.75e-150\n",
      "Time:                        22:17:18   Log-Likelihood:                         -111.33\n",
      "No. Observations:                 159   AIC:                                      232.7\n",
      "Df Residuals:                     154   BIC:                                      248.0\n",
      "Df Model:                           5                                                  \n",
      "Covariance Type:            nonrobust                                                  \n",
      "==============================================================================\n",
      "                 coef    std err          t      P>|t|      [0.025      0.975]\n",
      "------------------------------------------------------------------------------\n",
      "Weight        -0.0003      0.000     -1.522      0.130      -0.001    8.64e-05\n",
      "Length1       -0.0121      0.163     -0.074      0.941      -0.334       0.310\n",
      "Length2        0.6899      0.158      4.365      0.000       0.378       1.002\n",
      "Length3       -0.5702      0.053    -10.698      0.000      -0.676      -0.465\n",
      "Height         0.3383      0.024     14.304      0.000       0.292       0.385\n",
      "==============================================================================\n",
      "Omnibus:                        4.900   Durbin-Watson:                   0.966\n",
      "Prob(Omnibus):                  0.086   Jarque-Bera (JB):                4.425\n",
      "Skew:                           0.378   Prob(JB):                        0.109\n",
      "Kurtosis:                       3.311   Cond. No.                     3.06e+03\n",
      "==============================================================================\n",
      "\n",
      "Warnings:\n",
      "[1] Standard Errors assume that the covariance matrix of the errors is correctly specified.\n",
      "[2] The condition number is large, 3.06e+03. This might indicate that there are\n",
      "strong multicollinearity or other numerical problems.\n"
     ]
    }
   ],
   "source": [
    "import statsmodels.api as sm\n",
    "\n",
    "# let's ignore categorical features at the moment\n",
    "X = fish[['Weight', 'Length1', 'Length2', 'Length3', 'Height']]\n",
    "y = fish['Width']\n",
    "\n",
    "\n",
    "mod = sm.OLS(y, X)\n",
    "res = mod.fit()\n",
    "print(res.summary())"
   ]
  },
  {
   "cell_type": "code",
   "execution_count": 31,
   "metadata": {},
   "outputs": [
    {
     "name": "stdout",
     "output_type": "stream",
     "text": [
      "                                 OLS Regression Results                                \n",
      "=======================================================================================\n",
      "Dep. Variable:                  Width   R-squared (uncentered):                   0.989\n",
      "Model:                            OLS   Adj. R-squared (uncentered):              0.989\n",
      "Method:                 Least Squares   F-statistic:                              2866.\n",
      "Date:                Tue, 30 Jun 2020   Prob (F-statistic):                   5.75e-150\n",
      "Time:                        21:27:55   Log-Likelihood:                         -111.33\n",
      "No. Observations:                 159   AIC:                                      232.7\n",
      "Df Residuals:                     154   BIC:                                      248.0\n",
      "Df Model:                           5                                                  \n",
      "Covariance Type:            nonrobust                                                  \n",
      "==================================================================================\n",
      "                     coef    std err          t      P>|t|      [0.025      0.975]\n",
      "----------------------------------------------------------------------------------\n",
      "Weight            -0.1666      0.012    -13.847      0.000      -0.190      -0.143\n",
      "Length1           -0.1784      0.158     -1.126      0.262      -0.492       0.135\n",
      "Length2            0.5236      0.159      3.287      0.001       0.209       0.838\n",
      "Length3           -0.1841      0.016    -11.392      0.000      -0.216      -0.152\n",
      "Length4           -0.1841      0.016    -11.392      0.000      -0.216      -0.152\n",
      "Length5           -0.1841      0.016    -11.392      0.000      -0.216      -0.152\n",
      "Length6           -0.1841      0.016    -11.392      0.000      -0.216      -0.152\n",
      "Height             0.1720      0.014     12.499      0.000       0.145       0.199\n",
      "multicollinear     0.1663      0.012     13.893      0.000       0.143       0.190\n",
      "==============================================================================\n",
      "Omnibus:                        4.900   Durbin-Watson:                   0.966\n",
      "Prob(Omnibus):                  0.086   Jarque-Bera (JB):                4.425\n",
      "Skew:                           0.378   Prob(JB):                        0.109\n",
      "Kurtosis:                       3.311   Cond. No.                     9.69e+31\n",
      "==============================================================================\n",
      "\n",
      "Warnings:\n",
      "[1] Standard Errors assume that the covariance matrix of the errors is correctly specified.\n",
      "[2] The smallest eigenvalue is 1.16e-56. This might indicate that there are\n",
      "strong multicollinearity problems or that the design matrix is singular.\n"
     ]
    }
   ],
   "source": [
    "# let's through in a some correlated features\n",
    "fish['Length4'] = fish['Length3']\n",
    "fish['Length5'] = fish['Length3']\n",
    "fish['Length6'] = fish['Length3']\n",
    "fish['multicollinear'] = fish[['Weight', 'Length1', 'Length2', 'Length3', 'Height']].sum(axis=1)\n",
    "\n",
    "\n",
    "X_cor = fish[['Weight', 'Length1', 'Length2', 'Length3', 'Length4', 'Length5', 'Length6', 'Height',\\\n",
    "              'multicollinear']]\n",
    "mod = sm.OLS(y, X_cor)\n",
    "res = mod.fit()\n",
    "print(res.summary())"
   ]
  },
  {
   "cell_type": "markdown",
   "metadata": {},
   "source": [
    "## How do you check for correlations?\n",
    "1. Pearson correlation coefficient\n",
    "2. Variance Inflation Factor (VIF)"
   ]
  },
  {
   "cell_type": "code",
   "execution_count": 39,
   "metadata": {},
   "outputs": [
    {
     "data": {
      "text/plain": [
       "Text(0.5, 1.0, 'Pearson correlation coefficient between correlated features')"
      ]
     },
     "execution_count": 39,
     "metadata": {},
     "output_type": "execute_result"
    },
    {
     "data": {
      "image/png": "[encoded data removed]",
      "text/plain": [
       "<Figure size 1440x576 with 4 Axes>"
      ]
     },
     "metadata": {},
     "output_type": "display_data"
    }
   ],
   "source": [
    "import seaborn as sns\n",
    "import numpy as np\n",
    "import matplotlib.pyplot as plt\n",
    "\n",
    "corr_mat1 = np.corrcoef(X.values, rowvar=False)\n",
    "\n",
    "mask1 = np.triu(np.ones_like(corr_mat1, dtype=np.bool))\n",
    "sns.set(style=\"white\")\n",
    "\n",
    "corr_mat2 = np.corrcoef(X_cor.values, rowvar=False)\n",
    "\n",
    "mask2 = np.triu(np.ones_like(corr_mat2, dtype=np.bool))\n",
    "\n",
    "# Set up the matplotlib figure\n",
    "f, (ax1, ax2) = plt.subplots(1, 2, figsize=(20, 8))\n",
    "\n",
    "sns.heatmap(corr_mat1, annot=False, mask=mask1, xticklabels=X.columns, yticklabels=X.columns, ax=ax1)\n",
    "ax1.set_title(\"Pearson correlation coefficient between original features\", fontsize=14)\n",
    "\n",
    "sns.heatmap(corr_mat2, annot=False, mask=mask2, xticklabels=X_cor.columns, yticklabels=X_cor.columns, ax=ax2)\n",
    "ax2.set_title(\"Pearson correlation coefficient between correlated features\", fontsize=14)\n"
   ]
  },
  {
   "cell_type": "code",
   "execution_count": 75,
   "metadata": {},
   "outputs": [
    {
     "name": "stdout",
     "output_type": "stream",
     "text": [
      "                                 OLS Regression Results                                \n",
      "=======================================================================================\n",
      "Dep. Variable:                  Width   R-squared (uncentered):                   0.970\n",
      "Model:                            OLS   Adj. R-squared (uncentered):              0.970\n",
      "Method:                 Least Squares   F-statistic:                              5132.\n",
      "Date:                Tue, 30 Jun 2020   Prob (F-statistic):                   2.24e-122\n",
      "Time:                        22:36:18   Log-Likelihood:                         -193.44\n",
      "No. Observations:                 159   AIC:                                      388.9\n",
      "Df Residuals:                     158   BIC:                                      392.0\n",
      "Df Model:                           1                                                  \n",
      "Covariance Type:            nonrobust                                                  \n",
      "==============================================================================\n",
      "                 coef    std err          t      P>|t|      [0.025      0.975]\n",
      "------------------------------------------------------------------------------\n",
      "Length3        0.1398      0.002     71.636      0.000       0.136       0.144\n",
      "==============================================================================\n",
      "Omnibus:                       25.437   Durbin-Watson:                   0.371\n",
      "Prob(Omnibus):                  0.000   Jarque-Bera (JB):               47.302\n",
      "Skew:                          -0.755   Prob(JB):                     5.35e-11\n",
      "Kurtosis:                       5.205   Cond. No.                         1.00\n",
      "==============================================================================\n",
      "\n",
      "Warnings:\n",
      "[1] Standard Errors assume that the covariance matrix of the errors is correctly specified.\n"
     ]
    }
   ],
   "source": [
    "# Length 1, 2, 3 are strongly correlated, let's reduce the number of features\n",
    "\n",
    "X_red = fish[['Length3']]\n",
    "\n",
    "mod = sm.OLS(y, X_red)\n",
    "res = mod.fit()\n",
    "print(res.summary())"
   ]
  },
  {
   "cell_type": "code",
   "execution_count": 45,
   "metadata": {},
   "outputs": [
    {
     "name": "stdout",
     "output_type": "stream",
     "text": [
      "Weight 6.731679255535451\n",
      "Length1 13550.962990048614\n",
      "Length2 14928.43787744658\n",
      "Length3 2043.4247034622736\n",
      "Height 35.815771460035116\n"
     ]
    }
   ],
   "source": [
    "# measure variance inflation factor \n",
    "from statsmodels.stats.outliers_influence import variance_inflation_factor\n",
    "\n",
    "vif = [variance_inflation_factor(X.values, i) for i in range(X.shape[1])]\n",
    "for (col, vif_val) in zip(X.columns, vif):\n",
    "    print(col, vif_val)"
   ]
  },
  {
   "cell_type": "code",
   "execution_count": 68,
   "metadata": {},
   "outputs": [
    {
     "name": "stdout",
     "output_type": "stream",
     "text": [
      "Weight 8.648594271244862\n",
      "Length1 1707.9211390891064\n",
      "Length2 1880.3946530610513\n",
      "Length3 254.05821301493395\n",
      "Height 7.5538838830661215\n"
     ]
    }
   ],
   "source": [
    "vif = [variance_inflation_factor(X_cor.values, i) for i in range(X_c.shape[1])]\n",
    "for (col, vif_val) in zip(X_cor.columns, vif):\n",
    "    print(col, vif_val)"
   ]
  },
  {
   "cell_type": "code",
   "execution_count": 23,
   "metadata": {},
   "outputs": [
    {
     "data": {
      "text/html": [
       "<div>\n",
       "<style scoped>\n",
       "    .dataframe tbody tr th:only-of-type {\n",
       "        vertical-align: middle;\n",
       "    }\n",
       "\n",
       "    .dataframe tbody tr th {\n",
       "        vertical-align: top;\n",
       "    }\n",
       "\n",
       "    .dataframe thead th {\n",
       "        text-align: right;\n",
       "    }\n",
       "</style>\n",
       "<table border=\"1\" class=\"dataframe\">\n",
       "  <thead>\n",
       "    <tr style=\"text-align: right;\">\n",
       "      <th></th>\n",
       "      <th>coefficients</th>\n",
       "      <th>weights</th>\n",
       "    </tr>\n",
       "  </thead>\n",
       "  <tbody>\n",
       "    <tr>\n",
       "      <th>0</th>\n",
       "      <td>Weight</td>\n",
       "      <td>0.000351</td>\n",
       "    </tr>\n",
       "    <tr>\n",
       "      <th>1</th>\n",
       "      <td>Length1</td>\n",
       "      <td>-0.003738</td>\n",
       "    </tr>\n",
       "    <tr>\n",
       "      <th>2</th>\n",
       "      <td>Length2</td>\n",
       "      <td>0.639068</td>\n",
       "    </tr>\n",
       "    <tr>\n",
       "      <th>3</th>\n",
       "      <td>Length3</td>\n",
       "      <td>-0.273919</td>\n",
       "    </tr>\n",
       "    <tr>\n",
       "      <th>4</th>\n",
       "      <td>Length4</td>\n",
       "      <td>-0.273919</td>\n",
       "    </tr>\n",
       "    <tr>\n",
       "      <th>5</th>\n",
       "      <td>Height</td>\n",
       "      <td>0.316592</td>\n",
       "    </tr>\n",
       "  </tbody>\n",
       "</table>\n",
       "</div>"
      ],
      "text/plain": [
       "  coefficients   weights\n",
       "0       Weight  0.000351\n",
       "1      Length1 -0.003738\n",
       "2      Length2  0.639068\n",
       "3      Length3 -0.273919\n",
       "4      Length4 -0.273919\n",
       "5       Height  0.316592"
      ]
     },
     "execution_count": 23,
     "metadata": {},
     "output_type": "execute_result"
    }
   ],
   "source": [
    "coef_df = pd.DataFrame({'coefficients':X_cor.columns, 'weights':reg.coef_})\n",
    "coef_df"
   ]
  },
  {
   "cell_type": "code",
   "execution_count": null,
   "metadata": {},
   "outputs": [],
   "source": []
  }
 ],
 "metadata": {
  "kernelspec": {
   "display_name": "Python 3",
   "language": "python",
   "name": "python3"
  },
  "language_info": {
   "codemirror_mode": {
    "name": "ipython",
    "version": 3
   },
   "file_extension": ".py",
   "mimetype": "text/x-python",
   "name": "python",
   "nbconvert_exporter": "python",
   "pygments_lexer": "ipython3",
   "version": "3.8.3"
  }
 },
 "nbformat": 4,
 "nbformat_minor": 4
}
